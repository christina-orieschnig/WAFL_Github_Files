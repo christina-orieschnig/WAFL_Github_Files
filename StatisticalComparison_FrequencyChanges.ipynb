{
 "cells": [
  {
   "cell_type": "code",
   "execution_count": 1,
   "metadata": {},
   "outputs": [],
   "source": [
    "###############################\n",
    "## This script presents a statistical comparison of the flood frequency and inundation duration\n",
    "## in the Prek Area and Zone 2C on a decadal and pre/post 2008 basis \n",
    "## exported from this script: https://code.earthengine.google.com/f69af6afbec2c0a5d43a173a965c67be"
   ]
  },
  {
   "cell_type": "code",
   "execution_count": 1,
   "metadata": {},
   "outputs": [],
   "source": [
    "# import necessary packages\n",
    "import pandas as pd\n",
    "import numpy as np\n",
    "from sklearn.linear_model import LinearRegression\n",
    "import matplotlib.pyplot as plt\n",
    "import datetime\n",
    "import os\n",
    "import matplotlib.pyplot as plt\n",
    "from io import StringIO\n",
    "import matplotlib.dates as mdates\n",
    "from matplotlib.dates import DateFormatter\n",
    "from pandas.plotting import register_matplotlib_converters\n",
    "register_matplotlib_converters()\n",
    "import math\n",
    "from matplotlib.dates import date2num\n",
    "from pandas import DataFrame\n",
    "from numpy.random import seed\n",
    "from numpy.random import randn\n",
    "from scipy.stats import kruskal\n",
    "from scipy.stats import mstats\n",
    "import plotly.express as px"
   ]
  },
  {
   "cell_type": "code",
   "execution_count": 2,
   "metadata": {},
   "outputs": [],
   "source": [
    "#############################################################################################################################################################################################################################\n",
    "## For the Complex Zone 2C Relationship\n",
    "############################################################################################################################################################################################################################\n",
    "\n",
    "# import necessary CSV files\n",
    "freq_Z2C_90s = pd.read_csv('flood_link_GEE_2C_90s').set_index('wl_KK')\n",
    "freq_Z2C_90s = freq_Z2C_90s.drop(columns=['Unnamed: 0', 'date', 'Sentinel_date_2C', 'image_date', 'year', 'count_reached'])\n",
    "freq_Z2C_10s = pd.read_csv('flood_link_GEE_2C_10s').set_index('wl_KK')\n",
    "freq_Z2C_10s = freq_Z2C_10s.drop(columns=['Unnamed: 0',  'date', 'Sentinel_date_2C', 'image_date', 'year', 'count_reached'])\n",
    "\n",
    "\n",
    "freq_Z2C_pre08 = pd.read_csv('flood_link_GEE_2C_pre08').set_index('wl_KK')\n",
    "freq_Z2C_pre08 = freq_Z2C_pre08.drop(columns=['Unnamed: 0', 'date', 'Sentinel_date_2C', 'image_date', 'year', 'count_reached'])\n",
    "\n",
    "\n",
    "freq_Z2C_post08 = pd.read_csv('flood_link_GEE_2C_post08').set_index('wl_KK')\n",
    "freq_Z2C_post08 = freq_Z2C_post08.drop(columns=['Unnamed: 0', 'date', 'Sentinel_date_2C', 'image_date', 'year', 'count_reached'])\n",
    "\n",
    "\n",
    "# create day-specific change metrics: \n",
    "\n",
    "#### for the decadal comparison: \n",
    "comp_Z2C_dec = freq_Z2C_10s.sub(freq_Z2C_90s.squeeze())\n",
    "\n",
    "#### for the pre- and post-08 comparison: \n",
    "comp_Z2C_08 = freq_Z2C_post08.sub(freq_Z2C_pre08.squeeze())"
   ]
  },
  {
   "cell_type": "code",
   "execution_count": 25,
   "metadata": {},
   "outputs": [
    {
     "data": {
      "application/vnd.plotly.v1+json": {
       "config": {
        "plotlyServerURL": "https://plot.ly"
       },
       "data": [
        {
         "alignmentgroup": "True",
         "hovertemplate": "variable=freq_Aug15<br>value=%{y}<extra></extra>",
         "legendgroup": "freq_Aug15",
         "marker": {
          "color": "#636efa"
         },
         "name": "freq_Aug15",
         "notched": false,
         "offsetgroup": "freq_Aug15",
         "orientation": "v",
         "showlegend": true,
         "type": "box",
         "x0": " ",
         "xaxis": "x",
         "y": [
          0,
          0,
          0,
          0,
          0,
          0,
          0,
          0,
          0,
          0,
          0.1,
          0.1,
          0.2,
          0.2,
          0.2,
          0.2,
          0.2,
          0.2,
          0.2,
          0.2,
          0.2,
          0.2,
          0.2,
          0.2,
          0.10000000000000003,
          0,
          0,
          0,
          0,
          -0.09999999999999998,
          -0.09999999999999998,
          -0.09999999999999998,
          -0.09999999999999998,
          -0.09999999999999998,
          -0.09999999999999998,
          -0.09999999999999998,
          -0.09999999999999998,
          -0.09999999999999998,
          -0.09999999999999998,
          -0.10000000000000009,
          -0.10000000000000009,
          -0.20000000000000007,
          -0.20000000000000007,
          -0.20000000000000007,
          -0.20000000000000007,
          -0.20000000000000007,
          -0.20000000000000007,
          -0.20000000000000007,
          -0.20000000000000007,
          -0.20000000000000007,
          -0.20000000000000007,
          -0.20000000000000007,
          -0.30000000000000004,
          -0.30000000000000004,
          -0.19999999999999996,
          -0.19999999999999996,
          -0.19999999999999996,
          -0.19999999999999996,
          -0.19999999999999996,
          -0.19999999999999996,
          -0.19999999999999996,
          0,
          0,
          0,
          0,
          0,
          0,
          0,
          0,
          0,
          0,
          0,
          0,
          0,
          0,
          0,
          0,
          0,
          0,
          0,
          0,
          0,
          0,
          0,
          0,
          0,
          0,
          0,
          0,
          0,
          0,
          0,
          0,
          0,
          0,
          0,
          0,
          0,
          0,
          0,
          0,
          0,
          0,
          0,
          0,
          0,
          0,
          0,
          0,
          0,
          0,
          0,
          0,
          0,
          0,
          0,
          0,
          0,
          0,
          0,
          0,
          0,
          0,
          0,
          0,
          0,
          0,
          0,
          0,
          0,
          0,
          0,
          0,
          0,
          0,
          0,
          0,
          0,
          0,
          0,
          0,
          0,
          0,
          0,
          0,
          0,
          0,
          0,
          0,
          0,
          0,
          0,
          0,
          0
         ],
         "y0": " ",
         "yaxis": "y"
        },
        {
         "alignmentgroup": "True",
         "hovertemplate": "variable=freq_Aug31<br>value=%{y}<extra></extra>",
         "legendgroup": "freq_Aug31",
         "marker": {
          "color": "#EF553B"
         },
         "name": "freq_Aug31",
         "notched": false,
         "offsetgroup": "freq_Aug31",
         "orientation": "v",
         "showlegend": true,
         "type": "box",
         "x0": " ",
         "xaxis": "x2",
         "y": [
          0,
          0,
          0.1,
          0.1,
          0.1,
          0.1,
          0.1,
          0.1,
          0.1,
          0.1,
          0.2,
          0.2,
          0.2,
          0.2,
          0.2,
          0.2,
          0.2,
          0.2,
          0.2,
          0.2,
          0.2,
          0.2,
          0.10000000000000003,
          0.10000000000000003,
          0,
          -0.09999999999999998,
          -0.09999999999999998,
          -0.30000000000000004,
          -0.30000000000000004,
          -0.30000000000000004,
          -0.30000000000000004,
          -0.30000000000000004,
          -0.30000000000000004,
          -0.30000000000000004,
          -0.30000000000000004,
          -0.30000000000000004,
          -0.30000000000000004,
          -0.30000000000000004,
          -0.30000000000000004,
          -0.20000000000000007,
          -0.09999999999999998,
          0,
          0,
          0,
          -0.09999999999999998,
          -0.09999999999999998,
          -0.09999999999999998,
          0,
          0,
          0,
          0,
          0,
          0,
          0,
          0,
          0,
          0,
          0,
          0,
          0,
          0,
          0,
          0,
          0,
          0,
          0,
          0,
          0,
          0,
          0,
          0,
          0,
          0,
          0,
          0,
          0,
          0,
          0,
          0,
          0,
          0,
          0,
          0,
          0,
          0,
          0,
          0,
          0,
          0,
          0,
          0,
          0,
          0,
          0,
          0,
          0,
          0,
          0,
          0,
          0,
          0,
          0,
          0,
          0,
          0,
          0,
          0,
          0,
          0,
          0,
          0,
          0,
          0,
          0,
          0,
          0,
          0,
          0,
          0,
          0,
          0,
          0,
          0,
          0,
          0,
          0,
          0,
          0,
          0,
          0,
          0,
          0,
          0,
          0,
          0,
          0,
          0,
          0,
          0,
          0,
          0,
          0,
          0,
          0,
          0,
          0,
          0,
          0,
          0,
          0,
          0,
          0,
          0,
          0
         ],
         "y0": " ",
         "yaxis": "y2"
        },
        {
         "alignmentgroup": "True",
         "hovertemplate": "variable=freq_Jul15<br>value=%{y}<extra></extra>",
         "legendgroup": "freq_Jul15",
         "marker": {
          "color": "#00cc96"
         },
         "name": "freq_Jul15",
         "notched": false,
         "offsetgroup": "freq_Jul15",
         "orientation": "v",
         "showlegend": true,
         "type": "box",
         "x0": " ",
         "xaxis": "x3",
         "y": [
          0,
          0,
          0,
          0,
          0,
          0,
          0,
          0,
          0,
          0,
          0,
          0,
          0,
          0,
          0,
          0,
          0,
          0,
          0,
          0,
          0,
          0,
          0,
          0,
          0,
          0,
          -0.1,
          -0.1,
          -0.1,
          -0.1,
          -0.1,
          -0.1,
          -0.1,
          -0.1,
          -0.2,
          -0.2,
          -0.2,
          -0.2,
          -0.2,
          -0.2,
          -0.2,
          -0.2,
          -0.1,
          -0.1,
          -0.1,
          -0.1,
          -0.1,
          0.10000000000000003,
          0.2,
          0.2,
          0.2,
          0.2,
          0.2,
          0.2,
          0.09999999999999998,
          0,
          0,
          0,
          -0.09999999999999998,
          -0.09999999999999998,
          -0.20000000000000007,
          -0.20000000000000007,
          -0.20000000000000007,
          -0.30000000000000004,
          -0.30000000000000004,
          -0.30000000000000004,
          -0.30000000000000004,
          -0.30000000000000004,
          -0.30000000000000004,
          -0.30000000000000004,
          -0.4,
          -0.4,
          -0.4,
          -0.4,
          -0.4,
          -0.4,
          -0.4,
          -0.4,
          -0.4,
          -0.30000000000000004,
          -0.30000000000000004,
          -0.30000000000000004,
          -0.30000000000000004,
          -0.30000000000000004,
          -0.30000000000000004,
          -0.30000000000000004,
          -0.30000000000000004,
          -0.30000000000000004,
          -0.19999999999999996,
          -0.09999999999999998,
          -0.09999999999999998,
          -0.09999999999999998,
          -0.09999999999999998,
          -0.09999999999999998,
          -0.09999999999999998,
          -0.09999999999999998,
          -0.09999999999999998,
          0,
          0,
          0,
          0,
          0,
          0,
          0,
          0,
          0,
          0,
          0,
          0,
          0,
          0,
          0,
          0,
          0,
          0,
          0,
          0,
          0,
          0,
          0,
          0,
          0,
          0,
          0,
          0,
          0,
          0,
          0,
          0,
          0,
          0,
          0,
          0,
          0,
          0,
          0,
          0,
          0,
          0,
          0,
          0,
          0,
          0,
          0,
          0,
          0,
          0,
          0,
          0,
          0,
          0,
          0,
          0,
          0
         ],
         "y0": " ",
         "yaxis": "y3"
        },
        {
         "alignmentgroup": "True",
         "hovertemplate": "variable=freq_Jul31<br>value=%{y}<extra></extra>",
         "legendgroup": "freq_Jul31",
         "marker": {
          "color": "#ab63fa"
         },
         "name": "freq_Jul31",
         "notched": false,
         "offsetgroup": "freq_Jul31",
         "orientation": "v",
         "showlegend": true,
         "type": "box",
         "x0": " ",
         "xaxis": "x4",
         "y": [
          0,
          0,
          0,
          0,
          0,
          0,
          0,
          0,
          0,
          0,
          0,
          0,
          0,
          0,
          0,
          0,
          0,
          0,
          0,
          0,
          0,
          0,
          0,
          0.1,
          0.1,
          0.1,
          0.1,
          0,
          0,
          0,
          0,
          -0.10000000000000003,
          -0.10000000000000003,
          -0.10000000000000003,
          -0.19999999999999996,
          -0.19999999999999996,
          -0.19999999999999996,
          -0.19999999999999996,
          -0.19999999999999996,
          -0.19999999999999996,
          -0.19999999999999996,
          -0.30000000000000004,
          -0.30000000000000004,
          -0.30000000000000004,
          -0.30000000000000004,
          -0.30000000000000004,
          -0.30000000000000004,
          -0.30000000000000004,
          -0.30000000000000004,
          -0.30000000000000004,
          -0.30000000000000004,
          -0.30000000000000004,
          -0.30000000000000004,
          -0.4,
          -0.4,
          -0.4,
          -0.4,
          -0.4,
          -0.4,
          -0.4,
          -0.30000000000000004,
          -0.30000000000000004,
          -0.30000000000000004,
          -0.19999999999999996,
          -0.19999999999999996,
          -0.19999999999999996,
          -0.19999999999999996,
          -0.19999999999999996,
          -0.19999999999999996,
          -0.19999999999999996,
          -0.19999999999999996,
          -0.19999999999999996,
          -0.19999999999999996,
          -0.19999999999999996,
          -0.19999999999999996,
          -0.19999999999999996,
          -0.19999999999999996,
          -0.19999999999999996,
          -0.19999999999999996,
          -0.19999999999999996,
          -0.19999999999999996,
          -0.19999999999999996,
          -0.19999999999999996,
          -0.19999999999999996,
          -0.19999999999999996,
          -0.19999999999999996,
          -0.19999999999999996,
          -0.19999999999999996,
          -0.09999999999999998,
          -0.09999999999999998,
          -0.09999999999999998,
          -0.09999999999999998,
          -0.09999999999999998,
          -0.09999999999999998,
          -0.09999999999999998,
          -0.09999999999999998,
          -0.09999999999999998,
          0,
          0,
          0,
          0,
          0,
          0,
          0,
          0,
          0,
          0,
          0,
          0,
          0,
          0,
          0,
          0,
          0,
          0,
          0,
          0,
          0,
          0,
          0,
          0,
          0,
          0,
          0,
          0,
          0,
          0,
          0,
          0,
          0,
          0,
          0,
          0,
          0,
          0,
          0,
          0,
          0,
          0,
          0,
          0,
          0,
          0,
          0,
          0,
          0,
          0,
          0,
          0,
          0,
          0,
          0,
          0,
          0
         ],
         "y0": " ",
         "yaxis": "y4"
        },
        {
         "alignmentgroup": "True",
         "hovertemplate": "variable=freq_Sep25<br>value=%{y}<extra></extra>",
         "legendgroup": "freq_Sep25",
         "marker": {
          "color": "#FFA15A"
         },
         "name": "freq_Sep25",
         "notched": false,
         "offsetgroup": "freq_Sep25",
         "orientation": "v",
         "showlegend": true,
         "type": "box",
         "x0": " ",
         "xaxis": "x5",
         "y": [
          0,
          0,
          0,
          0,
          0,
          0,
          0,
          0,
          0,
          0,
          0.1,
          0.1,
          0.19999999999999998,
          0.19999999999999998,
          0.19999999999999998,
          0.19999999999999998,
          0.19999999999999998,
          0.19999999999999998,
          0.09999999999999998,
          0.09999999999999998,
          0.09999999999999998,
          0.09999999999999998,
          -0.09999999999999998,
          -0.09999999999999998,
          -0.09999999999999998,
          -0.19999999999999996,
          -0.19999999999999996,
          -0.20000000000000007,
          -0.10000000000000009,
          -0.20000000000000007,
          -0.20000000000000007,
          -0.20000000000000007,
          -0.20000000000000007,
          -0.20000000000000007,
          -0.19999999999999996,
          -0.19999999999999996,
          -0.19999999999999996,
          -0.19999999999999996,
          -0.19999999999999996,
          -0.09999999999999998,
          -0.09999999999999998,
          -0.09999999999999998,
          -0.09999999999999998,
          -0.09999999999999998,
          -0.09999999999999998,
          -0.09999999999999998,
          -0.09999999999999998,
          0,
          0,
          0,
          0,
          0,
          0,
          0,
          0,
          0,
          0,
          0,
          0,
          0,
          0,
          0,
          0,
          0,
          0,
          0,
          0,
          0,
          0,
          0,
          0,
          0,
          0,
          0,
          0,
          0,
          0,
          0,
          0,
          0,
          0,
          0,
          0,
          0,
          0,
          0,
          0,
          0,
          0,
          0,
          0,
          0,
          0,
          0,
          0,
          0,
          0,
          0,
          0,
          0,
          0,
          0,
          0,
          0,
          0,
          0,
          0,
          0,
          0,
          0,
          0,
          0,
          0,
          0,
          0,
          0,
          0,
          0,
          0,
          0,
          0,
          0,
          0,
          0,
          0,
          0,
          0,
          0,
          0,
          0,
          0,
          0,
          0,
          0,
          0,
          0,
          0,
          0,
          0,
          0,
          0,
          0,
          0,
          0,
          0,
          0,
          0,
          0,
          0,
          0,
          0,
          0,
          0,
          0
         ],
         "y0": " ",
         "yaxis": "y5"
        },
        {
         "alignmentgroup": "True",
         "hovertemplate": "variable=freq_overall<br>value=%{y}<extra></extra>",
         "legendgroup": "freq_overall",
         "marker": {
          "color": "#19d3f3"
         },
         "name": "freq_overall",
         "notched": false,
         "offsetgroup": "freq_overall",
         "orientation": "v",
         "showlegend": true,
         "type": "box",
         "x0": " ",
         "xaxis": "x6",
         "y": [
          0.1,
          0.1,
          0,
          0,
          0.09999999999999998,
          0.09999999999999998,
          0.09999999999999998,
          0.09999999999999998,
          0.09999999999999998,
          0.09999999999999998,
          0.2,
          0.2,
          0.3,
          0.3,
          0.3,
          0.3,
          0.3,
          0.3,
          0.2,
          0.2,
          0.2,
          0.2,
          0,
          0,
          -0.09999999999999998,
          -0.09999999999999998,
          -0.09999999999999998,
          -0.10000000000000009,
          -0.10000000000000009,
          0,
          0,
          0,
          0,
          0,
          -0.09999999999999998,
          -0.09999999999999998,
          -0.09999999999999998,
          -0.09999999999999998,
          -0.09999999999999998,
          0,
          0,
          0,
          0,
          0,
          0,
          0,
          0,
          0,
          0,
          0,
          0,
          0,
          0,
          0,
          0,
          0,
          0,
          0,
          0,
          0,
          0,
          0,
          0,
          0,
          0,
          0,
          0,
          0,
          0,
          0,
          0,
          0,
          0,
          0,
          0,
          0,
          0,
          0,
          0,
          0,
          0,
          0,
          0,
          0,
          0,
          0,
          0,
          0,
          0,
          0,
          0,
          0,
          0,
          0,
          0,
          0,
          0,
          0,
          0,
          0,
          0,
          0,
          0,
          0,
          0,
          0,
          0,
          0,
          0,
          0,
          0,
          0,
          0,
          0,
          0,
          0,
          0,
          0,
          0,
          0,
          0,
          0,
          0,
          0,
          0,
          0,
          0,
          0,
          0,
          0,
          0,
          0,
          0,
          0,
          0,
          0,
          0,
          0,
          0,
          0,
          0,
          0,
          0,
          0,
          0,
          0,
          0,
          0,
          0,
          0,
          0,
          0,
          0,
          0
         ],
         "y0": " ",
         "yaxis": "y6"
        }
       ],
       "layout": {
        "annotations": [
         {
          "font": {},
          "showarrow": false,
          "text": "variable=freq_Aug15",
          "x": 0.075,
          "xanchor": "center",
          "xref": "paper",
          "y": 1,
          "yanchor": "bottom",
          "yref": "paper"
         },
         {
          "font": {},
          "showarrow": false,
          "text": "variable=freq_Aug31",
          "x": 0.24499999999999997,
          "xanchor": "center",
          "xref": "paper",
          "y": 1,
          "yanchor": "bottom",
          "yref": "paper"
         },
         {
          "font": {},
          "showarrow": false,
          "text": "variable=freq_Jul15",
          "x": 0.415,
          "xanchor": "center",
          "xref": "paper",
          "y": 1,
          "yanchor": "bottom",
          "yref": "paper"
         },
         {
          "font": {},
          "showarrow": false,
          "text": "variable=freq_Jul31",
          "x": 0.585,
          "xanchor": "center",
          "xref": "paper",
          "y": 1,
          "yanchor": "bottom",
          "yref": "paper"
         },
         {
          "font": {},
          "showarrow": false,
          "text": "variable=freq_Sep25",
          "x": 0.7549999999999999,
          "xanchor": "center",
          "xref": "paper",
          "y": 1,
          "yanchor": "bottom",
          "yref": "paper"
         },
         {
          "font": {},
          "showarrow": false,
          "text": "variable=freq_overall",
          "x": 0.925,
          "xanchor": "center",
          "xref": "paper",
          "y": 1,
          "yanchor": "bottom",
          "yref": "paper"
         }
        ],
        "boxmode": "overlay",
        "legend": {
         "bgcolor": "white",
         "title": {
          "text": "variable"
         },
         "tracegroupgap": 0
        },
        "margin": {
         "t": 60
        },
        "plot_bgcolor": "white",
        "template": {
         "data": {
          "bar": [
           {
            "error_x": {
             "color": "#2a3f5f"
            },
            "error_y": {
             "color": "#2a3f5f"
            },
            "marker": {
             "line": {
              "color": "#E5ECF6",
              "width": 0.5
             }
            },
            "type": "bar"
           }
          ],
          "barpolar": [
           {
            "marker": {
             "line": {
              "color": "#E5ECF6",
              "width": 0.5
             }
            },
            "type": "barpolar"
           }
          ],
          "carpet": [
           {
            "aaxis": {
             "endlinecolor": "#2a3f5f",
             "gridcolor": "white",
             "linecolor": "white",
             "minorgridcolor": "white",
             "startlinecolor": "#2a3f5f"
            },
            "baxis": {
             "endlinecolor": "#2a3f5f",
             "gridcolor": "white",
             "linecolor": "white",
             "minorgridcolor": "white",
             "startlinecolor": "#2a3f5f"
            },
            "type": "carpet"
           }
          ],
          "choropleth": [
           {
            "colorbar": {
             "outlinewidth": 0,
             "ticks": ""
            },
            "type": "choropleth"
           }
          ],
          "contour": [
           {
            "colorbar": {
             "outlinewidth": 0,
             "ticks": ""
            },
            "colorscale": [
             [
              0,
              "#0d0887"
             ],
             [
              0.1111111111111111,
              "#46039f"
             ],
             [
              0.2222222222222222,
              "#7201a8"
             ],
             [
              0.3333333333333333,
              "#9c179e"
             ],
             [
              0.4444444444444444,
              "#bd3786"
             ],
             [
              0.5555555555555556,
              "#d8576b"
             ],
             [
              0.6666666666666666,
              "#ed7953"
             ],
             [
              0.7777777777777778,
              "#fb9f3a"
             ],
             [
              0.8888888888888888,
              "#fdca26"
             ],
             [
              1,
              "#f0f921"
             ]
            ],
            "type": "contour"
           }
          ],
          "contourcarpet": [
           {
            "colorbar": {
             "outlinewidth": 0,
             "ticks": ""
            },
            "type": "contourcarpet"
           }
          ],
          "heatmap": [
           {
            "colorbar": {
             "outlinewidth": 0,
             "ticks": ""
            },
            "colorscale": [
             [
              0,
              "#0d0887"
             ],
             [
              0.1111111111111111,
              "#46039f"
             ],
             [
              0.2222222222222222,
              "#7201a8"
             ],
             [
              0.3333333333333333,
              "#9c179e"
             ],
             [
              0.4444444444444444,
              "#bd3786"
             ],
             [
              0.5555555555555556,
              "#d8576b"
             ],
             [
              0.6666666666666666,
              "#ed7953"
             ],
             [
              0.7777777777777778,
              "#fb9f3a"
             ],
             [
              0.8888888888888888,
              "#fdca26"
             ],
             [
              1,
              "#f0f921"
             ]
            ],
            "type": "heatmap"
           }
          ],
          "heatmapgl": [
           {
            "colorbar": {
             "outlinewidth": 0,
             "ticks": ""
            },
            "colorscale": [
             [
              0,
              "#0d0887"
             ],
             [
              0.1111111111111111,
              "#46039f"
             ],
             [
              0.2222222222222222,
              "#7201a8"
             ],
             [
              0.3333333333333333,
              "#9c179e"
             ],
             [
              0.4444444444444444,
              "#bd3786"
             ],
             [
              0.5555555555555556,
              "#d8576b"
             ],
             [
              0.6666666666666666,
              "#ed7953"
             ],
             [
              0.7777777777777778,
              "#fb9f3a"
             ],
             [
              0.8888888888888888,
              "#fdca26"
             ],
             [
              1,
              "#f0f921"
             ]
            ],
            "type": "heatmapgl"
           }
          ],
          "histogram": [
           {
            "marker": {
             "colorbar": {
              "outlinewidth": 0,
              "ticks": ""
             }
            },
            "type": "histogram"
           }
          ],
          "histogram2d": [
           {
            "colorbar": {
             "outlinewidth": 0,
             "ticks": ""
            },
            "colorscale": [
             [
              0,
              "#0d0887"
             ],
             [
              0.1111111111111111,
              "#46039f"
             ],
             [
              0.2222222222222222,
              "#7201a8"
             ],
             [
              0.3333333333333333,
              "#9c179e"
             ],
             [
              0.4444444444444444,
              "#bd3786"
             ],
             [
              0.5555555555555556,
              "#d8576b"
             ],
             [
              0.6666666666666666,
              "#ed7953"
             ],
             [
              0.7777777777777778,
              "#fb9f3a"
             ],
             [
              0.8888888888888888,
              "#fdca26"
             ],
             [
              1,
              "#f0f921"
             ]
            ],
            "type": "histogram2d"
           }
          ],
          "histogram2dcontour": [
           {
            "colorbar": {
             "outlinewidth": 0,
             "ticks": ""
            },
            "colorscale": [
             [
              0,
              "#0d0887"
             ],
             [
              0.1111111111111111,
              "#46039f"
             ],
             [
              0.2222222222222222,
              "#7201a8"
             ],
             [
              0.3333333333333333,
              "#9c179e"
             ],
             [
              0.4444444444444444,
              "#bd3786"
             ],
             [
              0.5555555555555556,
              "#d8576b"
             ],
             [
              0.6666666666666666,
              "#ed7953"
             ],
             [
              0.7777777777777778,
              "#fb9f3a"
             ],
             [
              0.8888888888888888,
              "#fdca26"
             ],
             [
              1,
              "#f0f921"
             ]
            ],
            "type": "histogram2dcontour"
           }
          ],
          "mesh3d": [
           {
            "colorbar": {
             "outlinewidth": 0,
             "ticks": ""
            },
            "type": "mesh3d"
           }
          ],
          "parcoords": [
           {
            "line": {
             "colorbar": {
              "outlinewidth": 0,
              "ticks": ""
             }
            },
            "type": "parcoords"
           }
          ],
          "pie": [
           {
            "automargin": true,
            "type": "pie"
           }
          ],
          "scatter": [
           {
            "marker": {
             "colorbar": {
              "outlinewidth": 0,
              "ticks": ""
             }
            },
            "type": "scatter"
           }
          ],
          "scatter3d": [
           {
            "line": {
             "colorbar": {
              "outlinewidth": 0,
              "ticks": ""
             }
            },
            "marker": {
             "colorbar": {
              "outlinewidth": 0,
              "ticks": ""
             }
            },
            "type": "scatter3d"
           }
          ],
          "scattercarpet": [
           {
            "marker": {
             "colorbar": {
              "outlinewidth": 0,
              "ticks": ""
             }
            },
            "type": "scattercarpet"
           }
          ],
          "scattergeo": [
           {
            "marker": {
             "colorbar": {
              "outlinewidth": 0,
              "ticks": ""
             }
            },
            "type": "scattergeo"
           }
          ],
          "scattergl": [
           {
            "marker": {
             "colorbar": {
              "outlinewidth": 0,
              "ticks": ""
             }
            },
            "type": "scattergl"
           }
          ],
          "scattermapbox": [
           {
            "marker": {
             "colorbar": {
              "outlinewidth": 0,
              "ticks": ""
             }
            },
            "type": "scattermapbox"
           }
          ],
          "scatterpolar": [
           {
            "marker": {
             "colorbar": {
              "outlinewidth": 0,
              "ticks": ""
             }
            },
            "type": "scatterpolar"
           }
          ],
          "scatterpolargl": [
           {
            "marker": {
             "colorbar": {
              "outlinewidth": 0,
              "ticks": ""
             }
            },
            "type": "scatterpolargl"
           }
          ],
          "scatterternary": [
           {
            "marker": {
             "colorbar": {
              "outlinewidth": 0,
              "ticks": ""
             }
            },
            "type": "scatterternary"
           }
          ],
          "surface": [
           {
            "colorbar": {
             "outlinewidth": 0,
             "ticks": ""
            },
            "colorscale": [
             [
              0,
              "#0d0887"
             ],
             [
              0.1111111111111111,
              "#46039f"
             ],
             [
              0.2222222222222222,
              "#7201a8"
             ],
             [
              0.3333333333333333,
              "#9c179e"
             ],
             [
              0.4444444444444444,
              "#bd3786"
             ],
             [
              0.5555555555555556,
              "#d8576b"
             ],
             [
              0.6666666666666666,
              "#ed7953"
             ],
             [
              0.7777777777777778,
              "#fb9f3a"
             ],
             [
              0.8888888888888888,
              "#fdca26"
             ],
             [
              1,
              "#f0f921"
             ]
            ],
            "type": "surface"
           }
          ],
          "table": [
           {
            "cells": {
             "fill": {
              "color": "#EBF0F8"
             },
             "line": {
              "color": "white"
             }
            },
            "header": {
             "fill": {
              "color": "#C8D4E3"
             },
             "line": {
              "color": "white"
             }
            },
            "type": "table"
           }
          ]
         },
         "layout": {
          "annotationdefaults": {
           "arrowcolor": "#2a3f5f",
           "arrowhead": 0,
           "arrowwidth": 1
          },
          "autotypenumbers": "strict",
          "coloraxis": {
           "colorbar": {
            "outlinewidth": 0,
            "ticks": ""
           }
          },
          "colorscale": {
           "diverging": [
            [
             0,
             "#8e0152"
            ],
            [
             0.1,
             "#c51b7d"
            ],
            [
             0.2,
             "#de77ae"
            ],
            [
             0.3,
             "#f1b6da"
            ],
            [
             0.4,
             "#fde0ef"
            ],
            [
             0.5,
             "#f7f7f7"
            ],
            [
             0.6,
             "#e6f5d0"
            ],
            [
             0.7,
             "#b8e186"
            ],
            [
             0.8,
             "#7fbc41"
            ],
            [
             0.9,
             "#4d9221"
            ],
            [
             1,
             "#276419"
            ]
           ],
           "sequential": [
            [
             0,
             "#0d0887"
            ],
            [
             0.1111111111111111,
             "#46039f"
            ],
            [
             0.2222222222222222,
             "#7201a8"
            ],
            [
             0.3333333333333333,
             "#9c179e"
            ],
            [
             0.4444444444444444,
             "#bd3786"
            ],
            [
             0.5555555555555556,
             "#d8576b"
            ],
            [
             0.6666666666666666,
             "#ed7953"
            ],
            [
             0.7777777777777778,
             "#fb9f3a"
            ],
            [
             0.8888888888888888,
             "#fdca26"
            ],
            [
             1,
             "#f0f921"
            ]
           ],
           "sequentialminus": [
            [
             0,
             "#0d0887"
            ],
            [
             0.1111111111111111,
             "#46039f"
            ],
            [
             0.2222222222222222,
             "#7201a8"
            ],
            [
             0.3333333333333333,
             "#9c179e"
            ],
            [
             0.4444444444444444,
             "#bd3786"
            ],
            [
             0.5555555555555556,
             "#d8576b"
            ],
            [
             0.6666666666666666,
             "#ed7953"
            ],
            [
             0.7777777777777778,
             "#fb9f3a"
            ],
            [
             0.8888888888888888,
             "#fdca26"
            ],
            [
             1,
             "#f0f921"
            ]
           ]
          },
          "colorway": [
           "#636efa",
           "#EF553B",
           "#00cc96",
           "#ab63fa",
           "#FFA15A",
           "#19d3f3",
           "#FF6692",
           "#B6E880",
           "#FF97FF",
           "#FECB52"
          ],
          "font": {
           "color": "#2a3f5f"
          },
          "geo": {
           "bgcolor": "white",
           "lakecolor": "white",
           "landcolor": "#E5ECF6",
           "showlakes": true,
           "showland": true,
           "subunitcolor": "white"
          },
          "hoverlabel": {
           "align": "left"
          },
          "hovermode": "closest",
          "mapbox": {
           "style": "light"
          },
          "paper_bgcolor": "white",
          "plot_bgcolor": "#E5ECF6",
          "polar": {
           "angularaxis": {
            "gridcolor": "white",
            "linecolor": "white",
            "ticks": ""
           },
           "bgcolor": "#E5ECF6",
           "radialaxis": {
            "gridcolor": "white",
            "linecolor": "white",
            "ticks": ""
           }
          },
          "scene": {
           "xaxis": {
            "backgroundcolor": "#E5ECF6",
            "gridcolor": "white",
            "gridwidth": 2,
            "linecolor": "white",
            "showbackground": true,
            "ticks": "",
            "zerolinecolor": "white"
           },
           "yaxis": {
            "backgroundcolor": "#E5ECF6",
            "gridcolor": "white",
            "gridwidth": 2,
            "linecolor": "white",
            "showbackground": true,
            "ticks": "",
            "zerolinecolor": "white"
           },
           "zaxis": {
            "backgroundcolor": "#E5ECF6",
            "gridcolor": "white",
            "gridwidth": 2,
            "linecolor": "white",
            "showbackground": true,
            "ticks": "",
            "zerolinecolor": "white"
           }
          },
          "shapedefaults": {
           "line": {
            "color": "#2a3f5f"
           }
          },
          "ternary": {
           "aaxis": {
            "gridcolor": "white",
            "linecolor": "white",
            "ticks": ""
           },
           "baxis": {
            "gridcolor": "white",
            "linecolor": "white",
            "ticks": ""
           },
           "bgcolor": "#E5ECF6",
           "caxis": {
            "gridcolor": "white",
            "linecolor": "white",
            "ticks": ""
           }
          },
          "title": {
           "x": 0.05
          },
          "xaxis": {
           "automargin": true,
           "gridcolor": "white",
           "linecolor": "white",
           "ticks": "",
           "title": {
            "standoff": 15
           },
           "zerolinecolor": "white",
           "zerolinewidth": 2
          },
          "yaxis": {
           "automargin": true,
           "gridcolor": "white",
           "linecolor": "white",
           "ticks": "",
           "title": {
            "standoff": 15
           },
           "zerolinecolor": "white",
           "zerolinewidth": 2
          }
         }
        },
        "xaxis": {
         "anchor": "y",
         "domain": [
          0,
          0.15
         ],
         "gridcolor": "gray",
         "gridwidth": 1,
         "linecolor": "black",
         "linewidth": 2,
         "showgrid": true,
         "showline": true
        },
        "xaxis2": {
         "anchor": "y2",
         "domain": [
          0.16999999999999998,
          0.31999999999999995
         ],
         "gridcolor": "gray",
         "gridwidth": 1,
         "linecolor": "black",
         "linewidth": 2,
         "matches": "x",
         "showgrid": true,
         "showline": true
        },
        "xaxis3": {
         "anchor": "y3",
         "domain": [
          0.33999999999999997,
          0.49
         ],
         "gridcolor": "gray",
         "gridwidth": 1,
         "linecolor": "black",
         "linewidth": 2,
         "matches": "x",
         "showgrid": true,
         "showline": true
        },
        "xaxis4": {
         "anchor": "y4",
         "domain": [
          0.51,
          0.66
         ],
         "gridcolor": "gray",
         "gridwidth": 1,
         "linecolor": "black",
         "linewidth": 2,
         "matches": "x",
         "showgrid": true,
         "showline": true
        },
        "xaxis5": {
         "anchor": "y5",
         "domain": [
          0.6799999999999999,
          0.83
         ],
         "gridcolor": "gray",
         "gridwidth": 1,
         "linecolor": "black",
         "linewidth": 2,
         "matches": "x",
         "showgrid": true,
         "showline": true
        },
        "xaxis6": {
         "anchor": "y6",
         "domain": [
          0.85,
          1
         ],
         "gridcolor": "gray",
         "gridwidth": 1,
         "linecolor": "black",
         "linewidth": 2,
         "matches": "x",
         "showgrid": true,
         "showline": true
        },
        "yaxis": {
         "anchor": "x",
         "domain": [
          0,
          1
         ],
         "gridcolor": "gray",
         "gridwidth": 1,
         "linecolor": "black",
         "linewidth": 2,
         "showgrid": true,
         "showline": true,
         "showticklabels": true,
         "title": {
          "text": "value"
         }
        },
        "yaxis2": {
         "anchor": "x2",
         "domain": [
          0,
          1
         ],
         "gridcolor": "gray",
         "gridwidth": 1,
         "linecolor": "black",
         "linewidth": 2,
         "showgrid": true,
         "showline": true,
         "showticklabels": true
        },
        "yaxis3": {
         "anchor": "x3",
         "domain": [
          0,
          1
         ],
         "gridcolor": "gray",
         "gridwidth": 1,
         "linecolor": "black",
         "linewidth": 2,
         "showgrid": true,
         "showline": true,
         "showticklabels": true
        },
        "yaxis4": {
         "anchor": "x4",
         "domain": [
          0,
          1
         ],
         "gridcolor": "gray",
         "gridwidth": 1,
         "linecolor": "black",
         "linewidth": 2,
         "showgrid": true,
         "showline": true,
         "showticklabels": true
        },
        "yaxis5": {
         "anchor": "x5",
         "domain": [
          0,
          1
         ],
         "gridcolor": "gray",
         "gridwidth": 1,
         "linecolor": "black",
         "linewidth": 2,
         "showgrid": true,
         "showline": true,
         "showticklabels": true
        },
        "yaxis6": {
         "anchor": "x6",
         "domain": [
          0,
          1
         ],
         "gridcolor": "gray",
         "gridwidth": 1,
         "linecolor": "black",
         "linewidth": 2,
         "showgrid": true,
         "showline": true,
         "showticklabels": true
        }
       }
      },
      "text/html": [
       "<div>                            <div id=\"5e37c0d6-c622-48e7-b167-97295b58c538\" class=\"plotly-graph-div\" style=\"height:525px; width:100%;\"></div>            <script type=\"text/javascript\">                require([\"plotly\"], function(Plotly) {                    window.PLOTLYENV=window.PLOTLYENV || {};                                    if (document.getElementById(\"5e37c0d6-c622-48e7-b167-97295b58c538\")) {                    Plotly.newPlot(                        \"5e37c0d6-c622-48e7-b167-97295b58c538\",                        [{\"alignmentgroup\": \"True\", \"hovertemplate\": \"variable=freq_Aug15<br>value=%{y}<extra></extra>\", \"legendgroup\": \"freq_Aug15\", \"marker\": {\"color\": \"#636efa\"}, \"name\": \"freq_Aug15\", \"notched\": false, \"offsetgroup\": \"freq_Aug15\", \"orientation\": \"v\", \"showlegend\": true, \"type\": \"box\", \"x0\": \" \", \"xaxis\": \"x\", \"y\": [0.0, 0.0, 0.0, 0.0, 0.0, 0.0, 0.0, 0.0, 0.0, 0.0, 0.1, 0.1, 0.2, 0.2, 0.2, 0.2, 0.2, 0.2, 0.2, 0.2, 0.2, 0.2, 0.2, 0.2, 0.10000000000000003, 0.0, 0.0, 0.0, 0.0, -0.09999999999999998, -0.09999999999999998, -0.09999999999999998, -0.09999999999999998, -0.09999999999999998, -0.09999999999999998, -0.09999999999999998, -0.09999999999999998, -0.09999999999999998, -0.09999999999999998, -0.10000000000000009, -0.10000000000000009, -0.20000000000000007, -0.20000000000000007, -0.20000000000000007, -0.20000000000000007, -0.20000000000000007, -0.20000000000000007, -0.20000000000000007, -0.20000000000000007, -0.20000000000000007, -0.20000000000000007, -0.20000000000000007, -0.30000000000000004, -0.30000000000000004, -0.19999999999999996, -0.19999999999999996, -0.19999999999999996, -0.19999999999999996, -0.19999999999999996, -0.19999999999999996, -0.19999999999999996, 0.0, 0.0, 0.0, 0.0, 0.0, 0.0, 0.0, 0.0, 0.0, 0.0, 0.0, 0.0, 0.0, 0.0, 0.0, 0.0, 0.0, 0.0, 0.0, 0.0, 0.0, 0.0, 0.0, 0.0, 0.0, 0.0, 0.0, 0.0, 0.0, 0.0, 0.0, 0.0, 0.0, 0.0, 0.0, 0.0, 0.0, 0.0, 0.0, 0.0, 0.0, 0.0, 0.0, 0.0, 0.0, 0.0, 0.0, 0.0, 0.0, 0.0, 0.0, 0.0, 0.0, 0.0, 0.0, 0.0, 0.0, 0.0, 0.0, 0.0, 0.0, 0.0, 0.0, 0.0, 0.0, 0.0, 0.0, 0.0, 0.0, 0.0, 0.0, 0.0, 0.0, 0.0, 0.0, 0.0, 0.0, 0.0, 0.0, 0.0, 0.0, 0.0, 0.0, 0.0, 0.0, 0.0, 0.0, 0.0, 0.0, 0.0, 0.0, 0.0, 0.0], \"y0\": \" \", \"yaxis\": \"y\"}, {\"alignmentgroup\": \"True\", \"hovertemplate\": \"variable=freq_Aug31<br>value=%{y}<extra></extra>\", \"legendgroup\": \"freq_Aug31\", \"marker\": {\"color\": \"#EF553B\"}, \"name\": \"freq_Aug31\", \"notched\": false, \"offsetgroup\": \"freq_Aug31\", \"orientation\": \"v\", \"showlegend\": true, \"type\": \"box\", \"x0\": \" \", \"xaxis\": \"x2\", \"y\": [0.0, 0.0, 0.1, 0.1, 0.1, 0.1, 0.1, 0.1, 0.1, 0.1, 0.2, 0.2, 0.2, 0.2, 0.2, 0.2, 0.2, 0.2, 0.2, 0.2, 0.2, 0.2, 0.10000000000000003, 0.10000000000000003, 0.0, -0.09999999999999998, -0.09999999999999998, -0.30000000000000004, -0.30000000000000004, -0.30000000000000004, -0.30000000000000004, -0.30000000000000004, -0.30000000000000004, -0.30000000000000004, -0.30000000000000004, -0.30000000000000004, -0.30000000000000004, -0.30000000000000004, -0.30000000000000004, -0.20000000000000007, -0.09999999999999998, 0.0, 0.0, 0.0, -0.09999999999999998, -0.09999999999999998, -0.09999999999999998, 0.0, 0.0, 0.0, 0.0, 0.0, 0.0, 0.0, 0.0, 0.0, 0.0, 0.0, 0.0, 0.0, 0.0, 0.0, 0.0, 0.0, 0.0, 0.0, 0.0, 0.0, 0.0, 0.0, 0.0, 0.0, 0.0, 0.0, 0.0, 0.0, 0.0, 0.0, 0.0, 0.0, 0.0, 0.0, 0.0, 0.0, 0.0, 0.0, 0.0, 0.0, 0.0, 0.0, 0.0, 0.0, 0.0, 0.0, 0.0, 0.0, 0.0, 0.0, 0.0, 0.0, 0.0, 0.0, 0.0, 0.0, 0.0, 0.0, 0.0, 0.0, 0.0, 0.0, 0.0, 0.0, 0.0, 0.0, 0.0, 0.0, 0.0, 0.0, 0.0, 0.0, 0.0, 0.0, 0.0, 0.0, 0.0, 0.0, 0.0, 0.0, 0.0, 0.0, 0.0, 0.0, 0.0, 0.0, 0.0, 0.0, 0.0, 0.0, 0.0, 0.0, 0.0, 0.0, 0.0, 0.0, 0.0, 0.0, 0.0, 0.0, 0.0, 0.0, 0.0, 0.0, 0.0, 0.0], \"y0\": \" \", \"yaxis\": \"y2\"}, {\"alignmentgroup\": \"True\", \"hovertemplate\": \"variable=freq_Jul15<br>value=%{y}<extra></extra>\", \"legendgroup\": \"freq_Jul15\", \"marker\": {\"color\": \"#00cc96\"}, \"name\": \"freq_Jul15\", \"notched\": false, \"offsetgroup\": \"freq_Jul15\", \"orientation\": \"v\", \"showlegend\": true, \"type\": \"box\", \"x0\": \" \", \"xaxis\": \"x3\", \"y\": [0.0, 0.0, 0.0, 0.0, 0.0, 0.0, 0.0, 0.0, 0.0, 0.0, 0.0, 0.0, 0.0, 0.0, 0.0, 0.0, 0.0, 0.0, 0.0, 0.0, 0.0, 0.0, 0.0, 0.0, 0.0, 0.0, -0.1, -0.1, -0.1, -0.1, -0.1, -0.1, -0.1, -0.1, -0.2, -0.2, -0.2, -0.2, -0.2, -0.2, -0.2, -0.2, -0.1, -0.1, -0.1, -0.1, -0.1, 0.10000000000000003, 0.2, 0.2, 0.2, 0.2, 0.2, 0.2, 0.09999999999999998, 0.0, 0.0, 0.0, -0.09999999999999998, -0.09999999999999998, -0.20000000000000007, -0.20000000000000007, -0.20000000000000007, -0.30000000000000004, -0.30000000000000004, -0.30000000000000004, -0.30000000000000004, -0.30000000000000004, -0.30000000000000004, -0.30000000000000004, -0.4, -0.4, -0.4, -0.4, -0.4, -0.4, -0.4, -0.4, -0.4, -0.30000000000000004, -0.30000000000000004, -0.30000000000000004, -0.30000000000000004, -0.30000000000000004, -0.30000000000000004, -0.30000000000000004, -0.30000000000000004, -0.30000000000000004, -0.19999999999999996, -0.09999999999999998, -0.09999999999999998, -0.09999999999999998, -0.09999999999999998, -0.09999999999999998, -0.09999999999999998, -0.09999999999999998, -0.09999999999999998, 0.0, 0.0, 0.0, 0.0, 0.0, 0.0, 0.0, 0.0, 0.0, 0.0, 0.0, 0.0, 0.0, 0.0, 0.0, 0.0, 0.0, 0.0, 0.0, 0.0, 0.0, 0.0, 0.0, 0.0, 0.0, 0.0, 0.0, 0.0, 0.0, 0.0, 0.0, 0.0, 0.0, 0.0, 0.0, 0.0, 0.0, 0.0, 0.0, 0.0, 0.0, 0.0, 0.0, 0.0, 0.0, 0.0, 0.0, 0.0, 0.0, 0.0, 0.0, 0.0, 0.0, 0.0, 0.0, 0.0, 0.0], \"y0\": \" \", \"yaxis\": \"y3\"}, {\"alignmentgroup\": \"True\", \"hovertemplate\": \"variable=freq_Jul31<br>value=%{y}<extra></extra>\", \"legendgroup\": \"freq_Jul31\", \"marker\": {\"color\": \"#ab63fa\"}, \"name\": \"freq_Jul31\", \"notched\": false, \"offsetgroup\": \"freq_Jul31\", \"orientation\": \"v\", \"showlegend\": true, \"type\": \"box\", \"x0\": \" \", \"xaxis\": \"x4\", \"y\": [0.0, 0.0, 0.0, 0.0, 0.0, 0.0, 0.0, 0.0, 0.0, 0.0, 0.0, 0.0, 0.0, 0.0, 0.0, 0.0, 0.0, 0.0, 0.0, 0.0, 0.0, 0.0, 0.0, 0.1, 0.1, 0.1, 0.1, 0.0, 0.0, 0.0, 0.0, -0.10000000000000003, -0.10000000000000003, -0.10000000000000003, -0.19999999999999996, -0.19999999999999996, -0.19999999999999996, -0.19999999999999996, -0.19999999999999996, -0.19999999999999996, -0.19999999999999996, -0.30000000000000004, -0.30000000000000004, -0.30000000000000004, -0.30000000000000004, -0.30000000000000004, -0.30000000000000004, -0.30000000000000004, -0.30000000000000004, -0.30000000000000004, -0.30000000000000004, -0.30000000000000004, -0.30000000000000004, -0.4, -0.4, -0.4, -0.4, -0.4, -0.4, -0.4, -0.30000000000000004, -0.30000000000000004, -0.30000000000000004, -0.19999999999999996, -0.19999999999999996, -0.19999999999999996, -0.19999999999999996, -0.19999999999999996, -0.19999999999999996, -0.19999999999999996, -0.19999999999999996, -0.19999999999999996, -0.19999999999999996, -0.19999999999999996, -0.19999999999999996, -0.19999999999999996, -0.19999999999999996, -0.19999999999999996, -0.19999999999999996, -0.19999999999999996, -0.19999999999999996, -0.19999999999999996, -0.19999999999999996, -0.19999999999999996, -0.19999999999999996, -0.19999999999999996, -0.19999999999999996, -0.19999999999999996, -0.09999999999999998, -0.09999999999999998, -0.09999999999999998, -0.09999999999999998, -0.09999999999999998, -0.09999999999999998, -0.09999999999999998, -0.09999999999999998, -0.09999999999999998, 0.0, 0.0, 0.0, 0.0, 0.0, 0.0, 0.0, 0.0, 0.0, 0.0, 0.0, 0.0, 0.0, 0.0, 0.0, 0.0, 0.0, 0.0, 0.0, 0.0, 0.0, 0.0, 0.0, 0.0, 0.0, 0.0, 0.0, 0.0, 0.0, 0.0, 0.0, 0.0, 0.0, 0.0, 0.0, 0.0, 0.0, 0.0, 0.0, 0.0, 0.0, 0.0, 0.0, 0.0, 0.0, 0.0, 0.0, 0.0, 0.0, 0.0, 0.0, 0.0, 0.0, 0.0, 0.0, 0.0, 0.0], \"y0\": \" \", \"yaxis\": \"y4\"}, {\"alignmentgroup\": \"True\", \"hovertemplate\": \"variable=freq_Sep25<br>value=%{y}<extra></extra>\", \"legendgroup\": \"freq_Sep25\", \"marker\": {\"color\": \"#FFA15A\"}, \"name\": \"freq_Sep25\", \"notched\": false, \"offsetgroup\": \"freq_Sep25\", \"orientation\": \"v\", \"showlegend\": true, \"type\": \"box\", \"x0\": \" \", \"xaxis\": \"x5\", \"y\": [0.0, 0.0, 0.0, 0.0, 0.0, 0.0, 0.0, 0.0, 0.0, 0.0, 0.1, 0.1, 0.19999999999999998, 0.19999999999999998, 0.19999999999999998, 0.19999999999999998, 0.19999999999999998, 0.19999999999999998, 0.09999999999999998, 0.09999999999999998, 0.09999999999999998, 0.09999999999999998, -0.09999999999999998, -0.09999999999999998, -0.09999999999999998, -0.19999999999999996, -0.19999999999999996, -0.20000000000000007, -0.10000000000000009, -0.20000000000000007, -0.20000000000000007, -0.20000000000000007, -0.20000000000000007, -0.20000000000000007, -0.19999999999999996, -0.19999999999999996, -0.19999999999999996, -0.19999999999999996, -0.19999999999999996, -0.09999999999999998, -0.09999999999999998, -0.09999999999999998, -0.09999999999999998, -0.09999999999999998, -0.09999999999999998, -0.09999999999999998, -0.09999999999999998, 0.0, 0.0, 0.0, 0.0, 0.0, 0.0, 0.0, 0.0, 0.0, 0.0, 0.0, 0.0, 0.0, 0.0, 0.0, 0.0, 0.0, 0.0, 0.0, 0.0, 0.0, 0.0, 0.0, 0.0, 0.0, 0.0, 0.0, 0.0, 0.0, 0.0, 0.0, 0.0, 0.0, 0.0, 0.0, 0.0, 0.0, 0.0, 0.0, 0.0, 0.0, 0.0, 0.0, 0.0, 0.0, 0.0, 0.0, 0.0, 0.0, 0.0, 0.0, 0.0, 0.0, 0.0, 0.0, 0.0, 0.0, 0.0, 0.0, 0.0, 0.0, 0.0, 0.0, 0.0, 0.0, 0.0, 0.0, 0.0, 0.0, 0.0, 0.0, 0.0, 0.0, 0.0, 0.0, 0.0, 0.0, 0.0, 0.0, 0.0, 0.0, 0.0, 0.0, 0.0, 0.0, 0.0, 0.0, 0.0, 0.0, 0.0, 0.0, 0.0, 0.0, 0.0, 0.0, 0.0, 0.0, 0.0, 0.0, 0.0, 0.0, 0.0, 0.0, 0.0, 0.0, 0.0, 0.0], \"y0\": \" \", \"yaxis\": \"y5\"}, {\"alignmentgroup\": \"True\", \"hovertemplate\": \"variable=freq_overall<br>value=%{y}<extra></extra>\", \"legendgroup\": \"freq_overall\", \"marker\": {\"color\": \"#19d3f3\"}, \"name\": \"freq_overall\", \"notched\": false, \"offsetgroup\": \"freq_overall\", \"orientation\": \"v\", \"showlegend\": true, \"type\": \"box\", \"x0\": \" \", \"xaxis\": \"x6\", \"y\": [0.1, 0.1, 0.0, 0.0, 0.09999999999999998, 0.09999999999999998, 0.09999999999999998, 0.09999999999999998, 0.09999999999999998, 0.09999999999999998, 0.2, 0.2, 0.3, 0.3, 0.3, 0.3, 0.3, 0.3, 0.2, 0.2, 0.2, 0.2, 0.0, 0.0, -0.09999999999999998, -0.09999999999999998, -0.09999999999999998, -0.10000000000000009, -0.10000000000000009, 0.0, 0.0, 0.0, 0.0, 0.0, -0.09999999999999998, -0.09999999999999998, -0.09999999999999998, -0.09999999999999998, -0.09999999999999998, 0.0, 0.0, 0.0, 0.0, 0.0, 0.0, 0.0, 0.0, 0.0, 0.0, 0.0, 0.0, 0.0, 0.0, 0.0, 0.0, 0.0, 0.0, 0.0, 0.0, 0.0, 0.0, 0.0, 0.0, 0.0, 0.0, 0.0, 0.0, 0.0, 0.0, 0.0, 0.0, 0.0, 0.0, 0.0, 0.0, 0.0, 0.0, 0.0, 0.0, 0.0, 0.0, 0.0, 0.0, 0.0, 0.0, 0.0, 0.0, 0.0, 0.0, 0.0, 0.0, 0.0, 0.0, 0.0, 0.0, 0.0, 0.0, 0.0, 0.0, 0.0, 0.0, 0.0, 0.0, 0.0, 0.0, 0.0, 0.0, 0.0, 0.0, 0.0, 0.0, 0.0, 0.0, 0.0, 0.0, 0.0, 0.0, 0.0, 0.0, 0.0, 0.0, 0.0, 0.0, 0.0, 0.0, 0.0, 0.0, 0.0, 0.0, 0.0, 0.0, 0.0, 0.0, 0.0, 0.0, 0.0, 0.0, 0.0, 0.0, 0.0, 0.0, 0.0, 0.0, 0.0, 0.0, 0.0, 0.0, 0.0, 0.0, 0.0, 0.0, 0.0, 0.0, 0.0], \"y0\": \" \", \"yaxis\": \"y6\"}],                        {\"annotations\": [{\"font\": {}, \"showarrow\": false, \"text\": \"variable=freq_Aug15\", \"x\": 0.075, \"xanchor\": \"center\", \"xref\": \"paper\", \"y\": 1.0, \"yanchor\": \"bottom\", \"yref\": \"paper\"}, {\"font\": {}, \"showarrow\": false, \"text\": \"variable=freq_Aug31\", \"x\": 0.24499999999999997, \"xanchor\": \"center\", \"xref\": \"paper\", \"y\": 1.0, \"yanchor\": \"bottom\", \"yref\": \"paper\"}, {\"font\": {}, \"showarrow\": false, \"text\": \"variable=freq_Jul15\", \"x\": 0.415, \"xanchor\": \"center\", \"xref\": \"paper\", \"y\": 1.0, \"yanchor\": \"bottom\", \"yref\": \"paper\"}, {\"font\": {}, \"showarrow\": false, \"text\": \"variable=freq_Jul31\", \"x\": 0.585, \"xanchor\": \"center\", \"xref\": \"paper\", \"y\": 1.0, \"yanchor\": \"bottom\", \"yref\": \"paper\"}, {\"font\": {}, \"showarrow\": false, \"text\": \"variable=freq_Sep25\", \"x\": 0.7549999999999999, \"xanchor\": \"center\", \"xref\": \"paper\", \"y\": 1.0, \"yanchor\": \"bottom\", \"yref\": \"paper\"}, {\"font\": {}, \"showarrow\": false, \"text\": \"variable=freq_overall\", \"x\": 0.925, \"xanchor\": \"center\", \"xref\": \"paper\", \"y\": 1.0, \"yanchor\": \"bottom\", \"yref\": \"paper\"}], \"boxmode\": \"overlay\", \"legend\": {\"bgcolor\": \"white\", \"title\": {\"text\": \"variable\"}, \"tracegroupgap\": 0}, \"margin\": {\"t\": 60}, \"plot_bgcolor\": \"white\", \"template\": {\"data\": {\"bar\": [{\"error_x\": {\"color\": \"#2a3f5f\"}, \"error_y\": {\"color\": \"#2a3f5f\"}, \"marker\": {\"line\": {\"color\": \"#E5ECF6\", \"width\": 0.5}}, \"type\": \"bar\"}], \"barpolar\": [{\"marker\": {\"line\": {\"color\": \"#E5ECF6\", \"width\": 0.5}}, \"type\": \"barpolar\"}], \"carpet\": [{\"aaxis\": {\"endlinecolor\": \"#2a3f5f\", \"gridcolor\": \"white\", \"linecolor\": \"white\", \"minorgridcolor\": \"white\", \"startlinecolor\": \"#2a3f5f\"}, \"baxis\": {\"endlinecolor\": \"#2a3f5f\", \"gridcolor\": \"white\", \"linecolor\": \"white\", \"minorgridcolor\": \"white\", \"startlinecolor\": \"#2a3f5f\"}, \"type\": \"carpet\"}], \"choropleth\": [{\"colorbar\": {\"outlinewidth\": 0, \"ticks\": \"\"}, \"type\": \"choropleth\"}], \"contour\": [{\"colorbar\": {\"outlinewidth\": 0, \"ticks\": \"\"}, \"colorscale\": [[0.0, \"#0d0887\"], [0.1111111111111111, \"#46039f\"], [0.2222222222222222, \"#7201a8\"], [0.3333333333333333, \"#9c179e\"], [0.4444444444444444, \"#bd3786\"], [0.5555555555555556, \"#d8576b\"], [0.6666666666666666, \"#ed7953\"], [0.7777777777777778, \"#fb9f3a\"], [0.8888888888888888, \"#fdca26\"], [1.0, \"#f0f921\"]], \"type\": \"contour\"}], \"contourcarpet\": [{\"colorbar\": {\"outlinewidth\": 0, \"ticks\": \"\"}, \"type\": \"contourcarpet\"}], \"heatmap\": [{\"colorbar\": {\"outlinewidth\": 0, \"ticks\": \"\"}, \"colorscale\": [[0.0, \"#0d0887\"], [0.1111111111111111, \"#46039f\"], [0.2222222222222222, \"#7201a8\"], [0.3333333333333333, \"#9c179e\"], [0.4444444444444444, \"#bd3786\"], [0.5555555555555556, \"#d8576b\"], [0.6666666666666666, \"#ed7953\"], [0.7777777777777778, \"#fb9f3a\"], [0.8888888888888888, \"#fdca26\"], [1.0, \"#f0f921\"]], \"type\": \"heatmap\"}], \"heatmapgl\": [{\"colorbar\": {\"outlinewidth\": 0, \"ticks\": \"\"}, \"colorscale\": [[0.0, \"#0d0887\"], [0.1111111111111111, \"#46039f\"], [0.2222222222222222, \"#7201a8\"], [0.3333333333333333, \"#9c179e\"], [0.4444444444444444, \"#bd3786\"], [0.5555555555555556, \"#d8576b\"], [0.6666666666666666, \"#ed7953\"], [0.7777777777777778, \"#fb9f3a\"], [0.8888888888888888, \"#fdca26\"], [1.0, \"#f0f921\"]], \"type\": \"heatmapgl\"}], \"histogram\": [{\"marker\": {\"colorbar\": {\"outlinewidth\": 0, \"ticks\": \"\"}}, \"type\": \"histogram\"}], \"histogram2d\": [{\"colorbar\": {\"outlinewidth\": 0, \"ticks\": \"\"}, \"colorscale\": [[0.0, \"#0d0887\"], [0.1111111111111111, \"#46039f\"], [0.2222222222222222, \"#7201a8\"], [0.3333333333333333, \"#9c179e\"], [0.4444444444444444, \"#bd3786\"], [0.5555555555555556, \"#d8576b\"], [0.6666666666666666, \"#ed7953\"], [0.7777777777777778, \"#fb9f3a\"], [0.8888888888888888, \"#fdca26\"], [1.0, \"#f0f921\"]], \"type\": \"histogram2d\"}], \"histogram2dcontour\": [{\"colorbar\": {\"outlinewidth\": 0, \"ticks\": \"\"}, \"colorscale\": [[0.0, \"#0d0887\"], [0.1111111111111111, \"#46039f\"], [0.2222222222222222, \"#7201a8\"], [0.3333333333333333, \"#9c179e\"], [0.4444444444444444, \"#bd3786\"], [0.5555555555555556, \"#d8576b\"], [0.6666666666666666, \"#ed7953\"], [0.7777777777777778, \"#fb9f3a\"], [0.8888888888888888, \"#fdca26\"], [1.0, \"#f0f921\"]], \"type\": \"histogram2dcontour\"}], \"mesh3d\": [{\"colorbar\": {\"outlinewidth\": 0, \"ticks\": \"\"}, \"type\": \"mesh3d\"}], \"parcoords\": [{\"line\": {\"colorbar\": {\"outlinewidth\": 0, \"ticks\": \"\"}}, \"type\": \"parcoords\"}], \"pie\": [{\"automargin\": true, \"type\": \"pie\"}], \"scatter\": [{\"marker\": {\"colorbar\": {\"outlinewidth\": 0, \"ticks\": \"\"}}, \"type\": \"scatter\"}], \"scatter3d\": [{\"line\": {\"colorbar\": {\"outlinewidth\": 0, \"ticks\": \"\"}}, \"marker\": {\"colorbar\": {\"outlinewidth\": 0, \"ticks\": \"\"}}, \"type\": \"scatter3d\"}], \"scattercarpet\": [{\"marker\": {\"colorbar\": {\"outlinewidth\": 0, \"ticks\": \"\"}}, \"type\": \"scattercarpet\"}], \"scattergeo\": [{\"marker\": {\"colorbar\": {\"outlinewidth\": 0, \"ticks\": \"\"}}, \"type\": \"scattergeo\"}], \"scattergl\": [{\"marker\": {\"colorbar\": {\"outlinewidth\": 0, \"ticks\": \"\"}}, \"type\": \"scattergl\"}], \"scattermapbox\": [{\"marker\": {\"colorbar\": {\"outlinewidth\": 0, \"ticks\": \"\"}}, \"type\": \"scattermapbox\"}], \"scatterpolar\": [{\"marker\": {\"colorbar\": {\"outlinewidth\": 0, \"ticks\": \"\"}}, \"type\": \"scatterpolar\"}], \"scatterpolargl\": [{\"marker\": {\"colorbar\": {\"outlinewidth\": 0, \"ticks\": \"\"}}, \"type\": \"scatterpolargl\"}], \"scatterternary\": [{\"marker\": {\"colorbar\": {\"outlinewidth\": 0, \"ticks\": \"\"}}, \"type\": \"scatterternary\"}], \"surface\": [{\"colorbar\": {\"outlinewidth\": 0, \"ticks\": \"\"}, \"colorscale\": [[0.0, \"#0d0887\"], [0.1111111111111111, \"#46039f\"], [0.2222222222222222, \"#7201a8\"], [0.3333333333333333, \"#9c179e\"], [0.4444444444444444, \"#bd3786\"], [0.5555555555555556, \"#d8576b\"], [0.6666666666666666, \"#ed7953\"], [0.7777777777777778, \"#fb9f3a\"], [0.8888888888888888, \"#fdca26\"], [1.0, \"#f0f921\"]], \"type\": \"surface\"}], \"table\": [{\"cells\": {\"fill\": {\"color\": \"#EBF0F8\"}, \"line\": {\"color\": \"white\"}}, \"header\": {\"fill\": {\"color\": \"#C8D4E3\"}, \"line\": {\"color\": \"white\"}}, \"type\": \"table\"}]}, \"layout\": {\"annotationdefaults\": {\"arrowcolor\": \"#2a3f5f\", \"arrowhead\": 0, \"arrowwidth\": 1}, \"autotypenumbers\": \"strict\", \"coloraxis\": {\"colorbar\": {\"outlinewidth\": 0, \"ticks\": \"\"}}, \"colorscale\": {\"diverging\": [[0, \"#8e0152\"], [0.1, \"#c51b7d\"], [0.2, \"#de77ae\"], [0.3, \"#f1b6da\"], [0.4, \"#fde0ef\"], [0.5, \"#f7f7f7\"], [0.6, \"#e6f5d0\"], [0.7, \"#b8e186\"], [0.8, \"#7fbc41\"], [0.9, \"#4d9221\"], [1, \"#276419\"]], \"sequential\": [[0.0, \"#0d0887\"], [0.1111111111111111, \"#46039f\"], [0.2222222222222222, \"#7201a8\"], [0.3333333333333333, \"#9c179e\"], [0.4444444444444444, \"#bd3786\"], [0.5555555555555556, \"#d8576b\"], [0.6666666666666666, \"#ed7953\"], [0.7777777777777778, \"#fb9f3a\"], [0.8888888888888888, \"#fdca26\"], [1.0, \"#f0f921\"]], \"sequentialminus\": [[0.0, \"#0d0887\"], [0.1111111111111111, \"#46039f\"], [0.2222222222222222, \"#7201a8\"], [0.3333333333333333, \"#9c179e\"], [0.4444444444444444, \"#bd3786\"], [0.5555555555555556, \"#d8576b\"], [0.6666666666666666, \"#ed7953\"], [0.7777777777777778, \"#fb9f3a\"], [0.8888888888888888, \"#fdca26\"], [1.0, \"#f0f921\"]]}, \"colorway\": [\"#636efa\", \"#EF553B\", \"#00cc96\", \"#ab63fa\", \"#FFA15A\", \"#19d3f3\", \"#FF6692\", \"#B6E880\", \"#FF97FF\", \"#FECB52\"], \"font\": {\"color\": \"#2a3f5f\"}, \"geo\": {\"bgcolor\": \"white\", \"lakecolor\": \"white\", \"landcolor\": \"#E5ECF6\", \"showlakes\": true, \"showland\": true, \"subunitcolor\": \"white\"}, \"hoverlabel\": {\"align\": \"left\"}, \"hovermode\": \"closest\", \"mapbox\": {\"style\": \"light\"}, \"paper_bgcolor\": \"white\", \"plot_bgcolor\": \"#E5ECF6\", \"polar\": {\"angularaxis\": {\"gridcolor\": \"white\", \"linecolor\": \"white\", \"ticks\": \"\"}, \"bgcolor\": \"#E5ECF6\", \"radialaxis\": {\"gridcolor\": \"white\", \"linecolor\": \"white\", \"ticks\": \"\"}}, \"scene\": {\"xaxis\": {\"backgroundcolor\": \"#E5ECF6\", \"gridcolor\": \"white\", \"gridwidth\": 2, \"linecolor\": \"white\", \"showbackground\": true, \"ticks\": \"\", \"zerolinecolor\": \"white\"}, \"yaxis\": {\"backgroundcolor\": \"#E5ECF6\", \"gridcolor\": \"white\", \"gridwidth\": 2, \"linecolor\": \"white\", \"showbackground\": true, \"ticks\": \"\", \"zerolinecolor\": \"white\"}, \"zaxis\": {\"backgroundcolor\": \"#E5ECF6\", \"gridcolor\": \"white\", \"gridwidth\": 2, \"linecolor\": \"white\", \"showbackground\": true, \"ticks\": \"\", \"zerolinecolor\": \"white\"}}, \"shapedefaults\": {\"line\": {\"color\": \"#2a3f5f\"}}, \"ternary\": {\"aaxis\": {\"gridcolor\": \"white\", \"linecolor\": \"white\", \"ticks\": \"\"}, \"baxis\": {\"gridcolor\": \"white\", \"linecolor\": \"white\", \"ticks\": \"\"}, \"bgcolor\": \"#E5ECF6\", \"caxis\": {\"gridcolor\": \"white\", \"linecolor\": \"white\", \"ticks\": \"\"}}, \"title\": {\"x\": 0.05}, \"xaxis\": {\"automargin\": true, \"gridcolor\": \"white\", \"linecolor\": \"white\", \"ticks\": \"\", \"title\": {\"standoff\": 15}, \"zerolinecolor\": \"white\", \"zerolinewidth\": 2}, \"yaxis\": {\"automargin\": true, \"gridcolor\": \"white\", \"linecolor\": \"white\", \"ticks\": \"\", \"title\": {\"standoff\": 15}, \"zerolinecolor\": \"white\", \"zerolinewidth\": 2}}}, \"xaxis\": {\"anchor\": \"y\", \"domain\": [0.0, 0.15], \"gridcolor\": \"gray\", \"gridwidth\": 1, \"linecolor\": \"black\", \"linewidth\": 2, \"showgrid\": true, \"showline\": true}, \"xaxis2\": {\"anchor\": \"y2\", \"domain\": [0.16999999999999998, 0.31999999999999995], \"gridcolor\": \"gray\", \"gridwidth\": 1, \"linecolor\": \"black\", \"linewidth\": 2, \"matches\": \"x\", \"showgrid\": true, \"showline\": true}, \"xaxis3\": {\"anchor\": \"y3\", \"domain\": [0.33999999999999997, 0.49], \"gridcolor\": \"gray\", \"gridwidth\": 1, \"linecolor\": \"black\", \"linewidth\": 2, \"matches\": \"x\", \"showgrid\": true, \"showline\": true}, \"xaxis4\": {\"anchor\": \"y4\", \"domain\": [0.51, 0.66], \"gridcolor\": \"gray\", \"gridwidth\": 1, \"linecolor\": \"black\", \"linewidth\": 2, \"matches\": \"x\", \"showgrid\": true, \"showline\": true}, \"xaxis5\": {\"anchor\": \"y5\", \"domain\": [0.6799999999999999, 0.83], \"gridcolor\": \"gray\", \"gridwidth\": 1, \"linecolor\": \"black\", \"linewidth\": 2, \"matches\": \"x\", \"showgrid\": true, \"showline\": true}, \"xaxis6\": {\"anchor\": \"y6\", \"domain\": [0.85, 1.0], \"gridcolor\": \"gray\", \"gridwidth\": 1, \"linecolor\": \"black\", \"linewidth\": 2, \"matches\": \"x\", \"showgrid\": true, \"showline\": true}, \"yaxis\": {\"anchor\": \"x\", \"domain\": [0.0, 1.0], \"gridcolor\": \"gray\", \"gridwidth\": 1, \"linecolor\": \"black\", \"linewidth\": 2, \"showgrid\": true, \"showline\": true, \"showticklabels\": true, \"title\": {\"text\": \"value\"}}, \"yaxis2\": {\"anchor\": \"x2\", \"domain\": [0.0, 1.0], \"gridcolor\": \"gray\", \"gridwidth\": 1, \"linecolor\": \"black\", \"linewidth\": 2, \"showgrid\": true, \"showline\": true, \"showticklabels\": true}, \"yaxis3\": {\"anchor\": \"x3\", \"domain\": [0.0, 1.0], \"gridcolor\": \"gray\", \"gridwidth\": 1, \"linecolor\": \"black\", \"linewidth\": 2, \"showgrid\": true, \"showline\": true, \"showticklabels\": true}, \"yaxis4\": {\"anchor\": \"x4\", \"domain\": [0.0, 1.0], \"gridcolor\": \"gray\", \"gridwidth\": 1, \"linecolor\": \"black\", \"linewidth\": 2, \"showgrid\": true, \"showline\": true, \"showticklabels\": true}, \"yaxis5\": {\"anchor\": \"x5\", \"domain\": [0.0, 1.0], \"gridcolor\": \"gray\", \"gridwidth\": 1, \"linecolor\": \"black\", \"linewidth\": 2, \"showgrid\": true, \"showline\": true, \"showticklabels\": true}, \"yaxis6\": {\"anchor\": \"x6\", \"domain\": [0.0, 1.0], \"gridcolor\": \"gray\", \"gridwidth\": 1, \"linecolor\": \"black\", \"linewidth\": 2, \"showgrid\": true, \"showline\": true, \"showticklabels\": true}},                        {\"responsive\": true}                    ).then(function(){\n",
       "                            \n",
       "var gd = document.getElementById('5e37c0d6-c622-48e7-b167-97295b58c538');\n",
       "var x = new MutationObserver(function (mutations, observer) {{\n",
       "        var display = window.getComputedStyle(gd).display;\n",
       "        if (!display || display === 'none') {{\n",
       "            console.log([gd, 'removed!']);\n",
       "            Plotly.purge(gd);\n",
       "            observer.disconnect();\n",
       "        }}\n",
       "}});\n",
       "\n",
       "// Listen for the removal of the full notebook cells\n",
       "var notebookContainer = gd.closest('#notebook-container');\n",
       "if (notebookContainer) {{\n",
       "    x.observe(notebookContainer, {childList: true});\n",
       "}}\n",
       "\n",
       "// Listen for the clearing of the current output cell\n",
       "var outputEl = gd.closest('.output');\n",
       "if (outputEl) {{\n",
       "    x.observe(outputEl, {childList: true});\n",
       "}}\n",
       "\n",
       "                        })                };                });            </script>        </div>"
      ]
     },
     "metadata": {},
     "output_type": "display_data"
    }
   ],
   "source": [
    "#### make boxplots: \n",
    "\n",
    "\n",
    "df = comp_Z2C_dec.drop(columns=['Minimum', 'Maximum', 'freq_Dec1', 'freq_Dec15', 'freq_Jan1'])\n",
    "\n",
    "fig = px.box(df.melt(), y=\"value\", facet_col=\"variable\", boxmode=\"overlay\", color=\"variable\")\n",
    "fig.update_yaxes(matches=None)\n",
    "\n",
    "for i in range(len(fig[\"data\"])):\n",
    "    yaxis_name = 'yaxis' if i == 0 else f'yaxis{i + 1}'\n",
    "    fig.layout[yaxis_name].showticklabels = True\n",
    "\n",
    "fig.update_layout(legend = dict(bgcolor = 'white'))\n",
    "fig.update_layout(plot_bgcolor='white')\n",
    "\n",
    "fig.update_xaxes(showline=True, linewidth=2, linecolor='black')#, mirror=True)\n",
    "fig.update_yaxes(showline=True, linewidth=2, linecolor='black')#, mirror=True)\n",
    "\n",
    "fig.update_xaxes(showgrid=True, gridwidth=1, gridcolor='gray')\n",
    "fig.update_yaxes(showgrid=True, gridwidth=1, gridcolor='gray')\n",
    "\n",
    "fig.show()"
   ]
  },
  {
   "cell_type": "code",
   "execution_count": 3,
   "metadata": {},
   "outputs": [
    {
     "data": {
      "text/plain": [
       "Text(0.5, 1.0, 'Change in inundation frequency 1990s-2010s')"
      ]
     },
     "execution_count": 3,
     "metadata": {},
     "output_type": "execute_result"
    },
    {
     "data": {
      "image/png": "[encoded data removed]",
      "text/plain": [
       "<Figure size 1080x720 with 1 Axes>"
      ]
     },
     "metadata": {
      "needs_background": "light"
     },
     "output_type": "display_data"
    }
   ],
   "source": [
    "df = comp_Z2C_dec.drop(columns=['Minimum', 'Maximum', 'freq_Dec1', 'freq_Dec15', 'freq_Jan1'])\n",
    "\n",
    "df.columns = ['August 15', 'August 31', 'July 15', 'July 31', 'September 25', 'Overall']\n",
    "\n",
    "columns = ['July 15', 'July 31', 'August 15', 'August 31', 'September 25', 'Overall']\n",
    "\n",
    "ax = df.boxplot(column = columns,\n",
    "                  grid = False, \n",
    "                  figsize = (15,10),\n",
    "                  fontsize = 14)\n",
    "\n",
    "ax.set_xlabel(\"date\", fontsize = 20)\n",
    "ax.set_ylabel(\"\", fontsize = 20)\n",
    "ax.set_title(\"Zone 2C: Change in inundation frequency 1990s-2010s\", fontsize = 22)\n"
   ]
  },
  {
   "cell_type": "code",
   "execution_count": 4,
   "metadata": {},
   "outputs": [
    {
     "data": {
      "text/plain": [
       "Text(0.5, 1.0, 'Change in inundation frequency pre- and post-2008')"
      ]
     },
     "execution_count": 4,
     "metadata": {},
     "output_type": "execute_result"
    },
    {
     "data": {
      "image/png": "[encoded data removed]",
      "text/plain": [
       "<Figure size 1080x720 with 1 Axes>"
      ]
     },
     "metadata": {
      "needs_background": "light"
     },
     "output_type": "display_data"
    }
   ],
   "source": [
    "df = comp_Z2C_08.drop(columns=['Minimum', 'Maximum'])\n",
    "\n",
    "df.columns = ['Overall','July 15', 'July 31', 'August 15', 'August 31', 'September 25']\n",
    "\n",
    "columns = ['July 15', 'July 31', 'August 15', 'August 31', 'September 25', 'Overall']\n",
    "\n",
    "ax = df.boxplot(column = columns,\n",
    "                  grid = False, \n",
    "                  figsize = (15,10),\n",
    "                  fontsize = 14)\n",
    "\n",
    "ax.set_xlabel(\"date\", fontsize = 20)\n",
    "ax.set_ylabel(\"\", fontsize = 20)\n",
    "ax.set_title(\"Zone 2C: Change in inundation frequency pre- and post-2008\", fontsize = 22)\n",
    "\n",
    "\n"
   ]
  },
  {
   "cell_type": "code",
   "execution_count": 5,
   "metadata": {},
   "outputs": [],
   "source": [
    "#############################################################################################################################################################################################################################\n",
    "## For the Complex Prek Area Relationship\n",
    "############################################################################################################################################################################################################################\n",
    "\n",
    "# import necessary CSV files\n",
    "freq_PA_90s = pd.read_csv('flood_link_GEE_2C_90s').set_index('wl_KK')\n",
    "freq_PA_90s = freq_PA_90s.drop(columns=['Unnamed: 0', 'date', 'Sentinel_date_2C', 'image_date', 'year', 'count_reached'])\n",
    "freq_PA_10s = pd.read_csv('flood_link_GEE_2C_10s').set_index('wl_KK')\n",
    "freq_PA_10s = freq_PA_10s.drop(columns=['Unnamed: 0',  'date', 'Sentinel_date_2C', 'image_date', 'year', 'count_reached'])\n",
    "\n",
    "\n",
    "freq_PA_pre08 = pd.read_csv('flood_link_GEE_2C_pre08').set_index('wl_KK')\n",
    "freq_PA_pre08 = freq_PA_pre08.drop(columns=['Unnamed: 0', 'date', 'Sentinel_date_2C', 'image_date', 'year', 'count_reached'])\n",
    "\n",
    "\n",
    "freq_PA_post08 = pd.read_csv('flood_link_GEE_2C_post08').set_index('wl_KK')\n",
    "freq_PA_post08 = freq_PA_post08.drop(columns=['Unnamed: 0', 'date', 'Sentinel_date_2C', 'image_date', 'year', 'count_reached'])\n",
    "\n",
    "\n",
    "# create day-specific change metrics: \n",
    "\n",
    "#### for the decadal comparison: \n",
    "comp_PA_dec = freq_PA_10s.sub(freq_PA_90s.squeeze())\n",
    "\n",
    "#### for the pre- and post-08 comparison: \n",
    "comp_PA_08 = freq_PA_post08.sub(freq_PA_pre08.squeeze())"
   ]
  },
  {
   "cell_type": "code",
   "execution_count": 8,
   "metadata": {},
   "outputs": [
    {
     "data": {
      "text/plain": [
       "Text(0.5, 1.0, 'Prek Area: Change in inundation frequency 1990s-2010s')"
      ]
     },
     "execution_count": 8,
     "metadata": {},
     "output_type": "execute_result"
    },
    {
     "data": {
      "image/png": "[encoded data removed]",
      "text/plain": [
       "<Figure size 1080x720 with 1 Axes>"
      ]
     },
     "metadata": {
      "needs_background": "light"
     },
     "output_type": "display_data"
    }
   ],
   "source": [
    "df = comp_PA_dec.drop(columns=['Minimum', 'Maximum', 'freq_Dec1', 'freq_Dec15', 'freq_Jan1'])\n",
    "\n",
    "df.columns = ['August 15', 'August 31', 'July 15', 'July 31', 'September 25', 'Overall']\n",
    "\n",
    "columns = ['July 15', 'July 31', 'August 15', 'August 31', 'September 25', 'Overall']\n",
    "\n",
    "ax = df.boxplot(column = columns,\n",
    "                  grid = False, \n",
    "                  figsize = (15,10),\n",
    "                  fontsize = 14)\n",
    "\n",
    "ax.set_xlabel(\"date\", fontsize = 20)\n",
    "ax.set_ylabel(\"\", fontsize = 20)\n",
    "ax.set_title(\"Prek Area: Change in inundation frequency 1990s-2010s\", fontsize = 22)"
   ]
  },
  {
   "cell_type": "code",
   "execution_count": 17,
   "metadata": {},
   "outputs": [
    {
     "data": {
      "image/png": "[encoded data removed]",
      "text/plain": [
       "<Figure size 1008x432 with 1 Axes>"
      ]
     },
     "metadata": {
      "needs_background": "light"
     },
     "output_type": "display_data"
    }
   ],
   "source": [
    "df = comp_PA_08.drop(columns=['Minimum', 'Maximum'])\n",
    "\n",
    "df.columns = ['Overall','July 15', 'July 31', 'August 15', 'August 31', 'September 25']\n",
    "\n",
    "columns = ['July 15', 'July 31', 'August 15', 'August 31', 'September 25', 'Overall']\n",
    "\n",
    "fig, ax = plt.subplots(1, figsize=(14, 6))\n",
    "\n",
    "ax = df.boxplot(column = columns,\n",
    "                  grid = False, \n",
    "                  figsize = (15,10),\n",
    "                  fontsize = 14)\n",
    "\n",
    "ax.set_xlabel(\"date\", fontsize = 20)\n",
    "ax.set_ylabel(\"\", fontsize = 20)\n",
    "ax.set_title(\"Prek Area: Change in inundation frequency pre- and post-2008\", fontsize = 22)\n",
    "\n",
    "fig.savefig('Change_IF_PA_08', dpi=100)"
   ]
  },
  {
   "cell_type": "code",
   "execution_count": 14,
   "metadata": {},
   "outputs": [
    {
     "data": {
      "text/plain": [
       "Text(0.5, 1.0, 'Prek Area: Change in inundation frequency for WL above 5m 1990s-2010s')"
      ]
     },
     "execution_count": 14,
     "metadata": {},
     "output_type": "execute_result"
    },
    {
     "data": {
      "image/png": "[encoded data removed]",
      "text/plain": [
       "<Figure size 1080x720 with 1 Axes>"
      ]
     },
     "metadata": {
      "needs_background": "light"
     },
     "output_type": "display_data"
    }
   ],
   "source": [
    "#############################################################################################################################################################################################################################\n",
    "## WL above 5 m: \n",
    "############################################################################################################################################################################################################################\n",
    "\n",
    "df = comp_PA_dec\n",
    "df['wl_KK'] = df.index\n",
    "df = df[(df['wl_KK']>5)]\n",
    "\n",
    "df = df.set_index('wl_KK')\n",
    "\n",
    "df = df.drop(columns=['Minimum', 'Maximum', 'freq_Dec1', 'freq_Dec15', 'freq_Jan1'])\n",
    "\n",
    "df.columns = ['August 15', 'August 31', 'July 15', 'July 31', 'September 25', 'Overall']\n",
    "\n",
    "columns = ['July 15', 'July 31', 'August 15', 'August 31', 'September 25', 'Overall']\n",
    "\n",
    "ax = df.boxplot(column = columns,\n",
    "                  grid = False, \n",
    "                  figsize = (15,10),\n",
    "                  fontsize = 14)\n",
    "\n",
    "ax.set_xlabel(\"date\", fontsize = 20)\n",
    "ax.set_ylabel(\"\", fontsize = 20)\n",
    "ax.set_title(\"Prek Area: Change in inundation frequency for WL above 5m 1990s-2010s\", fontsize = 22)\n",
    "\n"
   ]
  },
  {
   "cell_type": "code",
   "execution_count": 15,
   "metadata": {},
   "outputs": [
    {
     "data": {
      "text/plain": [
       "Text(0.5, 1.0, 'Zone 2C: Change in inundation frequency for WL above 5m 1990s-2010s')"
      ]
     },
     "execution_count": 15,
     "metadata": {},
     "output_type": "execute_result"
    },
    {
     "data": {
      "image/png": "[encoded data removed]",
      "text/plain": [
       "<Figure size 1080x720 with 1 Axes>"
      ]
     },
     "metadata": {
      "needs_background": "light"
     },
     "output_type": "display_data"
    }
   ],
   "source": [
    "df = comp_Z2C_dec\n",
    "df['wl_KK'] = df.index\n",
    "df = df[(df['wl_KK']>5)]\n",
    "\n",
    "df = df.set_index('wl_KK')\n",
    "\n",
    "df = df.drop(columns=['Minimum', 'Maximum', 'freq_Dec1', 'freq_Dec15', 'freq_Jan1'])\n",
    "\n",
    "df.columns = ['August 15', 'August 31', 'July 15', 'July 31', 'September 25', 'Overall']\n",
    "\n",
    "columns = ['July 15', 'July 31', 'August 15', 'August 31', 'September 25', 'Overall']\n",
    "\n",
    "ax = df.boxplot(column = columns,\n",
    "                  grid = False, \n",
    "                  figsize = (15,10),\n",
    "                  fontsize = 14)\n",
    "\n",
    "ax.set_xlabel(\"date\", fontsize = 20)\n",
    "ax.set_ylabel(\"\", fontsize = 20)\n",
    "ax.set_title(\"Zone 2C: Change in inundation frequency for WL above 5m 1990s-2010s\", fontsize = 22)\n"
   ]
  },
  {
   "cell_type": "code",
   "execution_count": null,
   "metadata": {},
   "outputs": [],
   "source": []
  }
 ],
 "metadata": {
  "kernelspec": {
   "display_name": "Python 3",
   "language": "python",
   "name": "python3"
  },
  "language_info": {
   "codemirror_mode": {
    "name": "ipython",
    "version": 3
   },
   "file_extension": ".py",
   "mimetype": "text/x-python",
   "name": "python",
   "nbconvert_exporter": "python",
   "pygments_lexer": "ipython3",
   "version": "3.7.6"
  }
 },
 "nbformat": 4,
 "nbformat_minor": 4
}
